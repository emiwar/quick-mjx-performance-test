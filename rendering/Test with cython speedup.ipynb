{
 "cells": [
  {
   "cell_type": "code",
   "execution_count": 3,
   "id": "df5d6d37-311d-485c-8cb0-004cf3c9d6de",
   "metadata": {},
   "outputs": [],
   "source": [
    "%load_ext cython"
   ]
  },
  {
   "cell_type": "code",
   "execution_count": 14,
   "id": "e4642941-df7d-43df-9b0d-e4150dfee37a",
   "metadata": {},
   "outputs": [],
   "source": [
    "%%cython -I /home/emil/Development/test_build_mujoco/mujoco_release/include -L /home/emil/Development/test_build_mujoco/mujoco_release/lib\n",
    "cdef extern from \"mujoco/mujoco.h\":\n",
    "    ctypedef double mjtNum\n",
    "    ctypedef struct mjModel:\n",
    "        int nq\n",
    "        int nv\n",
    "        int nu\n",
    "    ctypedef struct mjData:\n",
    "        mjtNum* qpos\n",
    "    ctypedef struct mjVFS:\n",
    "        pass\n",
    "    mjModel* mj_loadXML(const char* filename, const mjVFS* vfs, char* error, int error_sz);\n",
    "    mjData* mj_makeData(const mjModel* m)\n",
    "    void mj_step(const mjModel* m, mjData* d)"
   ]
  },
  {
   "cell_type": "code",
   "execution_count": 9,
   "id": "75e25fac-5d5f-4530-a954-d5532dca9b52",
   "metadata": {},
   "outputs": [
    {
     "name": "stdout",
     "output_type": "stream",
     "text": [
      "\u001b[0m\u001b[01;34mmujoco\u001b[0m/\n"
     ]
    }
   ],
   "source": [
    "%ls /home/emil/Development/test_build_mujoco/mujoco_release/include"
   ]
  },
  {
   "cell_type": "code",
   "execution_count": null,
   "id": "836a7996-55b6-40af-8093-270a242c88d1",
   "metadata": {},
   "outputs": [],
   "source": [
    "# "
   ]
  }
 ],
 "metadata": {
  "kernelspec": {
   "display_name": "Python 3 (ipykernel)",
   "language": "python",
   "name": "python3"
  },
  "language_info": {
   "codemirror_mode": {
    "name": "ipython",
    "version": 3
   },
   "file_extension": ".py",
   "mimetype": "text/x-python",
   "name": "python",
   "nbconvert_exporter": "python",
   "pygments_lexer": "ipython3",
   "version": "3.10.12"
  }
 },
 "nbformat": 4,
 "nbformat_minor": 5
}
