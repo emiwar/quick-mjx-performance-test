{
 "cells": [
  {
   "cell_type": "code",
   "execution_count": 1,
   "id": "c78309d2-7957-4af8-852c-3108ea1f2b4a",
   "metadata": {},
   "outputs": [],
   "source": [
    "import mujoco"
   ]
  },
  {
   "cell_type": "code",
   "execution_count": 14,
   "id": "771db2ec-a878-47e3-acb8-dd6b5588bcf5",
   "metadata": {},
   "outputs": [],
   "source": [
    "import tqdm"
   ]
  },
  {
   "cell_type": "code",
   "execution_count": 6,
   "id": "14c8654d-6df1-4e70-a115-e380719f28a9",
   "metadata": {},
   "outputs": [],
   "source": [
    "class DummyRenderer(mujoco.Renderer):\n",
    "\n",
    "    def renderDummy(self):\n",
    "        \"\"\"Renders the scene without returning anything.\n",
    "    \n",
    "        Args:\n",
    "          Nothing. This is a dummy method.\n",
    "    \n",
    "        Returns:\n",
    "          Nothing. This is a dummy method.\n",
    "    \n",
    "        Raises:\n",
    "          RuntimeError: if this method is called after the close method.\n",
    "        \"\"\"\n",
    "        original_flags = self._scene.flags.copy()\n",
    "        \n",
    "        if self._gl_context is None:\n",
    "          raise RuntimeError('render cannot be called after close.')\n",
    "        self._gl_context.make_current()\n",
    "    \n",
    "        # Render scene without any copying\n",
    "        mujoco._render.mjr_render(self._rect, self._scene, self._mjr_context)\n",
    "        #_render.mjr_readPixels(out, None, self._rect, self._mjr_context)\n",
    "    \n",
    "        #out[:] = np.flipud(out)\n",
    "    \n",
    "        #return out"
   ]
  },
  {
   "cell_type": "code",
   "execution_count": 22,
   "id": "3c82059b-3cd9-469c-b552-a6235caecd29",
   "metadata": {},
   "outputs": [],
   "source": [
    "model_filename = '../rodent.xml'\n",
    "model = mujoco.MjModel.from_xml_path(model_filename)\n",
    "res = 64"
   ]
  },
  {
   "cell_type": "code",
   "execution_count": 23,
   "id": "a6bd1030-4694-4082-b53c-386384881527",
   "metadata": {},
   "outputs": [],
   "source": [
    "scene_option = mujoco.MjvOption()\n",
    "scene_option.flags[mujoco.mjtVisFlag.mjVIS_JOINT] = False\n",
    "scene_option.flags[mujoco.mjtVisFlag.mjVIS_SKIN] = False\n",
    "scene_option.flags[mujoco.mjtVisFlag.mjVIS_FLEXSKIN] = False\n",
    "scene_option.flags[mujoco.mjtVisFlag.mjVIS_TEXTURE] = True\n",
    "model.vis.global_.offheight = res\n",
    "model.vis.global_.offwidth = res\n",
    "camera = \"egocentric\"\n",
    "data = mujoco.MjData(model)"
   ]
  },
  {
   "cell_type": "code",
   "execution_count": 26,
   "id": "1c89442e-17cc-4295-b288-d5cfa8bd2e99",
   "metadata": {},
   "outputs": [
    {
     "name": "stderr",
     "output_type": "stream",
     "text": [
      "100%|███████████████████████████████████████████████████████████████████████████████████████████████████████████████████████████████████████████████| 10000/10000 [00:01<00:00, 5696.32it/s]\n"
     ]
    }
   ],
   "source": [
    "with DummyRenderer(model, height=res, width=res) as rend:\n",
    "    for t in tqdm.trange(10000):\n",
    "        #mujoco.mj_step(model, data)\n",
    "        #mujoco.mj_forward(model, data)\n",
    "        rend.update_scene(data, camera=camera, scene_option=scene_option)\n",
    "        rend.renderDummy()"
   ]
  },
  {
   "cell_type": "code",
   "execution_count": null,
   "id": "454d69ba-fce1-4880-8815-28f02910acba",
   "metadata": {},
   "outputs": [],
   "source": []
  }
 ],
 "metadata": {
  "kernelspec": {
   "display_name": "Python 3 (ipykernel)",
   "language": "python",
   "name": "python3"
  },
  "language_info": {
   "codemirror_mode": {
    "name": "ipython",
    "version": 3
   },
   "file_extension": ".py",
   "mimetype": "text/x-python",
   "name": "python",
   "nbconvert_exporter": "python",
   "pygments_lexer": "ipython3",
   "version": "3.10.12"
  }
 },
 "nbformat": 4,
 "nbformat_minor": 5
}
